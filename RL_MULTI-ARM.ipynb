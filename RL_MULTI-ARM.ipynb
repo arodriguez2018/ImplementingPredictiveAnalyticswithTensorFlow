{
 "cells": [
  {
   "cell_type": "code",
   "execution_count": 1,
   "metadata": {},
   "outputs": [],
   "source": [
    "import tensorflow as tf\n",
    "import numpy as np"
   ]
  },
  {
   "cell_type": "code",
   "execution_count": 2,
   "metadata": {},
   "outputs": [],
   "source": [
    "# list our bandidts.\n",
    "bandits = [0.3, 0.4, 0.9, 0.4]\n",
    "num_bandits = len(bandits) "
   ]
  },
  {
   "cell_type": "code",
   "execution_count": 3,
   "metadata": {},
   "outputs": [],
   "source": [
    "def pullBandit(bandit):\n",
    "    # get a random number\n",
    "    rand = np.random.random()\n",
    "    if bandit > rand:\n",
    "        # retrn a positive reward\n",
    "        return 1\n",
    "    else:\n",
    "        # return a negative reward\n",
    "        return -1"
   ]
  },
  {
   "cell_type": "code",
   "execution_count": 5,
   "metadata": {},
   "outputs": [],
   "source": [
    "tf.reset_default_graph()\n",
    "\n",
    "# 2 lines est the feed-forward part of the network, does the actual choosing\n",
    "weights = tf.Variable(tf.ones([num_bandits]))\n",
    "chosen_action = tf.argmax(weights)\n",
    "\n",
    "# 6 lines est training procedure, feed the reward and actio into the \n",
    "# next to compute the loss then update network\n",
    "reward_holder = tf.placeholder(shape=[1],dtype=tf.float32)\n",
    "action_holder = tf.placeholder(shape=[1],dtype=tf.int32)\n",
    "responsible_weight = tf.slice(weights, action_holder, [1])\n",
    "loss = -(tf.log(responsible_weight)*reward_holder)\n",
    "optimizer = tf.train.GradientDescentOptimizer(learning_rate=0.001)\n",
    "update = optimizer.minimize(loss)"
   ]
  },
  {
   "cell_type": "code",
   "execution_count": 7,
   "metadata": {},
   "outputs": [
    {
     "name": "stdout",
     "output_type": "stream",
     "text": [
      "Total reward after 0 episodes: [0. 0. 0. 0.]\n",
      "WARNING:tensorflow:From /Users/artrodriguez/.local/share/virtualenvs/ImplementingPredictiveAnalyticswithTensorF-JEPKb2iY/lib/python3.7/site-packages/tensorflow/python/util/tf_should_use.py:193: initialize_all_variables (from tensorflow.python.ops.variables) is deprecated and will be removed after 2017-03-02.\n",
      "Instructions for updating:\n",
      "Use `tf.global_variables_initializer` instead.\n",
      "Total reward after 1 episodes: [-1.  0.  0.  0.]\n",
      "Total reward after 2 episodes: [-1. -1.  0.  0.]\n",
      "Total reward after 3 episodes: [-1. -1.  1.  0.]\n",
      "Total reward after 4 episodes: [-1. -1.  2.  0.]\n",
      "Total reward after 5 episodes: [-1. -1.  3.  0.]\n",
      "Total reward after 6 episodes: [-1. -1.  4.  0.]\n",
      "Total reward after 7 episodes: [-1. -1.  5.  0.]\n",
      "Total reward after 8 episodes: [-1. -1.  6.  0.]\n",
      "Total reward after 9 episodes: [-1. -1.  7.  0.]\n",
      "Total reward after 10 episodes: [-1. -1.  8.  0.]\n",
      "Total reward after 11 episodes: [-1. -1.  9.  0.]\n",
      "Total reward after 12 episodes: [-1. -1.  8.  0.]\n",
      "Total reward after 13 episodes: [-1. -1.  9.  0.]\n",
      "Total reward after 14 episodes: [-2. -1.  9.  0.]\n",
      "Total reward after 15 episodes: [-2. -1. 10.  0.]\n",
      "Total reward after 16 episodes: [-2. -1. 11.  0.]\n",
      "Total reward after 17 episodes: [-2. -1. 12.  0.]\n",
      "Total reward after 18 episodes: [-2. -1. 13.  0.]\n",
      "Total reward after 19 episodes: [-2. -1. 14.  0.]\n",
      "Total reward after 20 episodes: [-2. -1. 13.  0.]\n",
      "The agent guessed that the best bandit is: 3\n",
      "The known best bandit is: 3\n"
     ]
    }
   ],
   "source": [
    "\n",
    "# start to train the agent\n",
    "total_episodes = 20 # set the episodes to train on\n",
    "total_reward = np.zeros(num_bandits) # set scoreboard for bandits to 0\n",
    "print(f'Total reward after 0 episodes: {total_reward}')\n",
    "\n",
    "# execute the TF session\n",
    "sess = tf.Session()\n",
    "init = tf.initialize_all_variables()\n",
    "sess.run(init)\n",
    "e = 0.1 # set the chance of taking a random action, 0 for plunger lift!\n",
    "i = 0\n",
    "\n",
    "while i < total_episodes:\n",
    "    # choose either a random action of one from networkd\n",
    "    if np.random.rand(1) > e:\n",
    "        action = sess.run(chosen_action)\n",
    "    else:\n",
    "        action = np.random.randint(num_bandits)\n",
    "\n",
    "    reward = pullBandit(bandits[action]) # get our reward form picking a bandit\n",
    "\n",
    "    # update the network\n",
    "    _,resp,ww = sess.run([update,responsible_weight,weights], feed_dict={reward_holder:[reward], action_holder:[action]})\n",
    "\n",
    "    # update the running tally of scores\n",
    "    total_reward[action] += reward\n",
    "\n",
    "    i += 1\n",
    "    if i % i == 0:\n",
    "        print(f'Total reward after {i} episodes: {total_reward}')\n",
    "\n",
    "\n",
    "print(f'The agent guessed that the best bandit is: {np.argmax(ww)+1}')\n",
    "print(f'The known best bandit is: {np.argmax(bandits)+1}')"
   ]
  },
  {
   "cell_type": "code",
   "execution_count": null,
   "metadata": {},
   "outputs": [],
   "source": []
  }
 ],
 "metadata": {
  "kernelspec": {
   "display_name": "Python 3",
   "language": "python",
   "name": "python3"
  },
  "language_info": {
   "codemirror_mode": {
    "name": "ipython",
    "version": 3
   },
   "file_extension": ".py",
   "mimetype": "text/x-python",
   "name": "python",
   "nbconvert_exporter": "python",
   "pygments_lexer": "ipython3",
   "version": "3.7.0"
  }
 },
 "nbformat": 4,
 "nbformat_minor": 2
}
